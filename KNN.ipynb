{
  "nbformat": 4,
  "nbformat_minor": 0,
  "metadata": {
    "colab": {
      "name": "Untitled1.ipynb",
      "provenance": []
    },
    "kernelspec": {
      "name": "python3",
      "display_name": "Python 3"
    },
    "language_info": {
      "name": "python"
    }
  },
  "cells": [
    {
      "cell_type": "code",
      "metadata": {
        "id": "ZwxxKPd1M6jo"
      },
      "source": [
        "import numpy as np\n",
        "import matplotlib.pyplot as plt\n",
        "import pandas as pd"
      ],
      "execution_count": 1,
      "outputs": []
    },
    {
      "cell_type": "code",
      "metadata": {
        "id": "VmTiwKDOM9sk"
      },
      "source": [
        "dataset = pd.read_csv('dataset uhuyy.csv')\n",
        "x = dataset.iloc[:, [5, 6]].values\n",
        "y = dataset.iloc[:, -4].values"
      ],
      "execution_count": 2,
      "outputs": []
    },
    {
      "cell_type": "code",
      "metadata": {
        "colab": {
          "base_uri": "https://localhost:8080/"
        },
        "id": "T1y-l-cPP-Eq",
        "outputId": "17ab40e3-9044-4ebd-e230-c1b480ea19b3"
      },
      "source": [
        "print(x)"
      ],
      "execution_count": 3,
      "outputs": [
        {
          "output_type": "stream",
          "text": [
            "[[72 72]\n",
            " [69 90]\n",
            " [90 95]\n",
            " ...\n",
            " [59 71]\n",
            " [68 78]\n",
            " [77 86]]\n"
          ],
          "name": "stdout"
        }
      ]
    },
    {
      "cell_type": "code",
      "metadata": {
        "colab": {
          "base_uri": "https://localhost:8080/"
        },
        "id": "xKF8OtKQP_Ol",
        "outputId": "1a7cb742-8cb8-45c8-c824-e0b7181f81c8"
      },
      "source": [
        "print(y)"
      ],
      "execution_count": 4,
      "outputs": [
        {
          "output_type": "stream",
          "text": [
            "[0 1 0 0 0 0 1 0 1 0 0 0 0 1 0 0 0 0 1 0 0 1 0 0 1 0 0 0 0 0 0 0 0 0 0 1 0\n",
            " 0 1 0 0 0 0 1 0 0 1 0 1 1 0 1 0 0 1 0 1 0 1 0 1 0 0 0 0 0 0 0 0 0 1 1 0 0\n",
            " 0 0 0 1 1 0 0 0 1 0 0 0 0 0 0 0 0 0 0 1 0 1 1 1 0 0 0 1 0 1 1 0 0 1 0 0 1\n",
            " 0 0 0 1 0 0 0 0 0 1 1 1 0 0 0 0 1 0 0 0 1 1 1 1 0 1 0 0 1 0 0 1 0 0 0 0 0\n",
            " 1 1 1 0 1 0 0 1 1 0 1 0 1 1 0 0 0 1 1 1 1 1 1 0 0 0 1 1 1 1 1 1 1 0 0 0 1\n",
            " 1 0 1 0 0 0 1 0 1 1 0 1 0 0 0 1 0 0 0 0 1 0 1 0 0 1 0 0 1 1 1 1 0 0 1 1 0\n",
            " 0 0 1 0 0 0 0 1 0 0 0 0 1 0 0 1 0 0 1 0 0 0 0 0 0 1 0 0 1 0 1 0 0 0 0 1 0\n",
            " 1 1 1 0 0 0 0 0 0 1 0 0 0 0 0 1 0 1 1 0 0 0 0 0 1 0 1 1 0 0 1 0 0 1 0 1 0\n",
            " 1 1 1 0 1 0 1 0 1 0 1 0 0 0 0 0 1 1 1 0 1 0 0 0 1 0 0 0 0 0 0 0 1 0 0 0 1\n",
            " 0 0 0 1 0 0 1 0 0 1 1 0 0 0 1 0 0 0 0 1 0 0 0 0 1 0 0 0 1 0 0 0 1 1 0 0 0\n",
            " 0 1 0 1 0 0 0 1 0 0 0 1 0 0 0 0 0 0 0 0 1 0 0 1 1 0 0 0 0 0 1 0 0 1 0 0 1\n",
            " 0 1 1 1 1 0 1 1 0 1 0 0 1 1 1 1 1 0 0 0 0 0 0 0 0 0 0 0 1 0 0 0 1 1 0 0 0\n",
            " 0 1 0 1 0 0 1 0 0 0 0 0 0 0 0 1 0 0 0 0 1 0 0 1 1 0 1 0 1 0 1 1 1 0 0 0 1\n",
            " 0 0 0 0 0 0 0 1 1 0 0 0 0 0 1 0 1 0 0 0 1 0 1 0 0 0 0 0 0 0 0 0 1 1 1 0 1\n",
            " 1 1 0 0 0 0 1 0 1 0 0 0 1 0 1 1 1 1 1 0 1 1 1 1 0 0 0 1 1 1 0 0 0 1 0 0 0\n",
            " 0 1 0 0 0 1 0 1 1 0 0 1 1 0 0 1 0 0 1 0 1 1 0 1 0 0 0 0 1 0 0 0 0 0 0 0 0\n",
            " 0 0 1 1 0 0 0 0 0 0 0 0 1 0 0 0 0 0 1 0 1 0 0 0 0 0 0 1 0 0 1 1 0 1 1 0 0\n",
            " 1 0 0 1 0 0 0 1 1 0 0 0 1 0 1 0 1 0 0 0 1 1 1 1 1 0 0 0 0 0 0 0 0 0 0 0 1\n",
            " 1 0 0 1 0 0 0 1 1 1 1 1 0 0 0 0 0 1 1 1 1 0 0 0 0 0 1 0 0 0 1 0 1 0 1 0 1\n",
            " 0 1 0 0 0 0 1 1 1 0 0 1 1 1 1 0 1 0 1 1 0 0 1 1 1 0 0 1 0 1 0 0 0 0 1 0 0\n",
            " 0 0 0 1 0 0 0 0 0 1 1 0 1 1 0 0 0 1 1 1 0 0 1 0 0 0 1 1 0 0 0 0 1 0 0 0 0\n",
            " 0 1 1 0 0 1 1 1 1 0 0 0 0 0 0 0 1 0 1 0 0 0 0 1 1 0 0 0 0 0 0 0 0 0 0 1 1\n",
            " 0 1 0 1 0 0 1 0 1 0 0 0 1 0 1 0 0 1 0 1 0 1 0 1 1 0 0 0 1 1 1 0 1 0 0 0 0\n",
            " 0 0 0 0 0 0 0 1 0 0 0 1 1 0 1 0 0 1 0 0 1 1 0 0 0 0 0 0 0 1 1 0 0 0 1 1 0\n",
            " 0 0 1 0 0 1 0 0 0 1 1 1 0 0 1 1 0 0 0 1 0 1 0 0 1 1 0 0 1 0 1 1 0 0 0 0 0\n",
            " 1 0 1 1 0 1 0 1 1 1 0 0 0 1 1 1 0 0 1 0 0 0 0 1 1 0 1 0 1 0 0 0 0 0 0 0 0\n",
            " 0 1 0 0 1 0 0 0 0 1 1 0 0 1 1 0 1 0 0 0 1 1 0 0 0 1 0 1 1 1 0 0 0 1 0 1 1\n",
            " 0]\n"
          ],
          "name": "stdout"
        }
      ]
    },
    {
      "cell_type": "code",
      "metadata": {
        "id": "RqPRlRYTQCSD"
      },
      "source": [
        "from sklearn.model_selection import train_test_split\n",
        "x_train, x_test, y_train, y_test = train_test_split(x, y, test_size = 0.25, random_state = 0)"
      ],
      "execution_count": 5,
      "outputs": []
    },
    {
      "cell_type": "code",
      "metadata": {
        "colab": {
          "base_uri": "https://localhost:8080/"
        },
        "id": "bH9-tDaSQFrw",
        "outputId": "ae88b842-8620-45df-85a9-6046031ed2c3"
      },
      "source": [
        "print(x_train)"
      ],
      "execution_count": 6,
      "outputs": [
        {
          "output_type": "stream",
          "text": [
            "[[80 80]\n",
            " [77 85]\n",
            " [73 80]\n",
            " ...\n",
            " [44 51]\n",
            " [73 66]\n",
            " [62 66]]\n"
          ],
          "name": "stdout"
        }
      ]
    },
    {
      "cell_type": "code",
      "metadata": {
        "colab": {
          "base_uri": "https://localhost:8080/"
        },
        "id": "MG5hA9Y8QIPA",
        "outputId": "ebd1efd4-ea58-4eec-827e-82b815b9bcff"
      },
      "source": [
        "print(x_test)\n"
      ],
      "execution_count": 7,
      "outputs": [
        {
          "output_type": "stream",
          "text": [
            "[[ 62  72]\n",
            " [ 87  73]\n",
            " [ 40  46]\n",
            " [ 77  62]\n",
            " [ 69  78]\n",
            " [ 78  72]\n",
            " [ 67  69]\n",
            " [ 46  43]\n",
            " [ 99  87]\n",
            " [ 46  34]\n",
            " [ 54  48]\n",
            " [ 53  70]\n",
            " [ 91  81]\n",
            " [ 84  80]\n",
            " [ 48  56]\n",
            " [ 33  41]\n",
            " [ 57  48]\n",
            " [ 81  91]\n",
            " [ 50  53]\n",
            " [ 80  78]\n",
            " [ 63  65]\n",
            " [ 52  59]\n",
            " [ 73  76]\n",
            " [ 66  60]\n",
            " [ 55  46]\n",
            " [ 68  65]\n",
            " [ 65  54]\n",
            " [ 60  44]\n",
            " [ 53  72]\n",
            " [ 69  90]\n",
            " [ 71  87]\n",
            " [ 93  84]\n",
            " [ 82  93]\n",
            " [ 48  62]\n",
            " [ 52  57]\n",
            " [ 92  79]\n",
            " [ 92 100]\n",
            " [ 69  58]\n",
            " [ 57  77]\n",
            " [ 69  72]\n",
            " [ 76  64]\n",
            " [ 62  55]\n",
            " [ 71  74]\n",
            " [ 57  78]\n",
            " [ 71  83]\n",
            " [ 52  59]\n",
            " [ 77  91]\n",
            " [ 59  62]\n",
            " [ 77  82]\n",
            " [ 44  63]\n",
            " [ 47  37]\n",
            " [ 67  62]\n",
            " [ 44  50]\n",
            " [ 61  56]\n",
            " [ 39  42]\n",
            " [ 63  73]\n",
            " [ 47  53]\n",
            " [ 69  63]\n",
            " [ 81  75]\n",
            " [ 56  65]\n",
            " [ 68  68]\n",
            " [ 74  79]\n",
            " [ 42  55]\n",
            " [ 69  77]\n",
            " [ 63  67]\n",
            " [ 59  69]\n",
            " [ 76  73]\n",
            " [ 47  54]\n",
            " [ 60  70]\n",
            " [ 61  51]\n",
            " [ 81  71]\n",
            " [ 90  87]\n",
            " [ 80  73]\n",
            " [ 58  70]\n",
            " [ 64  56]\n",
            " [ 71  66]\n",
            " [ 73  70]\n",
            " [ 70  70]\n",
            " [ 29  29]\n",
            " [ 73  79]\n",
            " [ 79  79]\n",
            " [ 79  89]\n",
            " [ 64  73]\n",
            " [ 79  85]\n",
            " [ 70  64]\n",
            " [ 77  77]\n",
            " [ 63  66]\n",
            " [ 94  87]\n",
            " [ 59  78]\n",
            " [ 43  62]\n",
            " [ 65  77]\n",
            " [ 54  64]\n",
            " [ 54  65]\n",
            " [ 73  56]\n",
            " [ 86  76]\n",
            " [ 70  74]\n",
            " [ 63  48]\n",
            " [ 52  76]\n",
            " [ 61  66]\n",
            " [ 70  65]\n",
            " [ 32  51]\n",
            " [ 90  90]\n",
            " [ 67  64]\n",
            " [ 34  48]\n",
            " [ 83  72]\n",
            " [ 67  80]\n",
            " [ 63  73]\n",
            " [ 52  65]\n",
            " [ 45  63]\n",
            " [ 87  91]\n",
            " [ 63  72]\n",
            " [ 73  75]\n",
            " [ 26  31]\n",
            " [ 54  59]\n",
            " [ 62  73]\n",
            " [ 67  76]\n",
            " [ 78  83]\n",
            " [ 79  81]\n",
            " [ 79  82]\n",
            " [ 54  61]\n",
            " [ 46  56]\n",
            " [ 67  84]\n",
            " [ 88  93]\n",
            " [ 82  82]\n",
            " [ 79  74]\n",
            " [ 40  65]\n",
            " [ 74  74]\n",
            " [ 70  78]\n",
            " [ 77  68]\n",
            " [ 61  64]\n",
            " [ 68  64]\n",
            " [ 67  64]\n",
            " [ 30  24]\n",
            " [ 81  81]\n",
            " [ 77  90]\n",
            " [ 61  58]\n",
            " [ 67  61]\n",
            " [ 64  64]\n",
            " [ 62  74]\n",
            " [ 81  82]\n",
            " [ 68  74]\n",
            " [ 60  68]\n",
            " [ 71  49]\n",
            " [ 68  60]\n",
            " [ 65  86]\n",
            " [ 41  39]\n",
            " [ 38  43]\n",
            " [ 48  45]\n",
            " [ 71  84]\n",
            " [ 97  87]\n",
            " [ 58  49]\n",
            " [ 69  74]\n",
            " [ 88  99]\n",
            " [ 70  68]\n",
            " [ 64  82]\n",
            " [ 86  81]\n",
            " [ 53  54]\n",
            " [ 52  58]\n",
            " [ 53  62]\n",
            " [ 59  52]\n",
            " [ 81  97]\n",
            " [ 40  59]\n",
            " [ 53  58]\n",
            " [ 97  93]\n",
            " [ 65  61]\n",
            " [ 71  83]\n",
            " [ 67  79]\n",
            " [ 81  66]\n",
            " [ 66  57]\n",
            " [ 68  59]\n",
            " [ 54  61]\n",
            " [ 57  68]\n",
            " [ 22  39]\n",
            " [ 56  68]\n",
            " [ 83  83]\n",
            " [ 68  72]\n",
            " [ 73  68]\n",
            " [ 50  53]\n",
            " [ 93 100]\n",
            " [ 88  73]\n",
            " [ 76  62]\n",
            " [ 77  86]\n",
            " [ 72  67]\n",
            " [ 71  66]\n",
            " [ 67  86]\n",
            " [ 72  66]\n",
            " [ 96  96]\n",
            " [100 100]\n",
            " [ 62  78]\n",
            " [ 59  41]\n",
            " [ 58  50]\n",
            " [ 64  60]\n",
            " [ 50  48]\n",
            " [ 71  83]\n",
            " [ 58  60]\n",
            " [ 63  61]\n",
            " [ 74  90]\n",
            " [ 84  83]\n",
            " [ 65  70]\n",
            " [ 62  67]\n",
            " [ 77  78]\n",
            " [ 74  79]\n",
            " [ 62  56]\n",
            " [ 91  95]\n",
            " [ 61  70]\n",
            " [ 35  61]\n",
            " [ 72  80]\n",
            " [ 74  89]\n",
            " [ 66  78]\n",
            " [ 72  66]\n",
            " [ 51  58]\n",
            " [ 94  90]\n",
            " [ 50  64]\n",
            " [ 59  62]\n",
            " [ 32  34]\n",
            " [ 55  76]\n",
            " [ 61  86]\n",
            " [ 62  67]\n",
            " [ 55  61]\n",
            " [ 65  76]\n",
            " [ 75  81]\n",
            " [ 68  68]\n",
            " [ 72  57]\n",
            " [ 63  75]\n",
            " [ 65  65]\n",
            " [ 78  77]\n",
            " [ 84  89]\n",
            " [ 69  58]\n",
            " [ 46  42]\n",
            " [ 62  67]\n",
            " [ 36  53]\n",
            " [ 53  71]\n",
            " [ 58  51]\n",
            " [ 42  52]\n",
            " [ 62  61]\n",
            " [ 62  68]\n",
            " [ 67  72]\n",
            " [ 77  62]\n",
            " [ 71  69]\n",
            " [ 46  64]\n",
            " [ 66  83]\n",
            " [ 49  52]\n",
            " [ 67  84]\n",
            " [ 59  60]\n",
            " [ 65  82]\n",
            " [ 71  70]\n",
            " [ 63  61]\n",
            " [ 90  95]\n",
            " [ 55  64]\n",
            " [ 79  89]]\n"
          ],
          "name": "stdout"
        }
      ]
    },
    {
      "cell_type": "code",
      "metadata": {
        "colab": {
          "base_uri": "https://localhost:8080/"
        },
        "id": "CwUrD6_BQLMc",
        "outputId": "4ad5a999-b841-40e8-ee95-4092880681a6"
      },
      "source": [
        "print(y_train)"
      ],
      "execution_count": 8,
      "outputs": [
        {
          "output_type": "stream",
          "text": [
            "[0 0 0 0 0 0 0 0 0 1 0 1 0 0 0 0 0 0 1 1 1 0 0 0 0 0 0 1 0 0 0 0 1 0 1 0 0\n",
            " 0 1 0 1 1 0 0 1 1 1 0 0 0 0 0 0 0 0 0 0 0 1 0 1 0 1 0 0 0 1 1 1 1 1 0 0 0\n",
            " 0 0 1 1 0 0 1 0 0 0 0 1 0 1 1 1 0 0 0 0 0 0 1 1 0 1 0 0 0 0 0 0 0 1 0 0 0\n",
            " 0 0 0 0 0 1 0 1 0 1 1 1 1 1 0 0 0 0 1 0 0 0 1 0 0 0 1 1 0 0 1 0 0 1 0 0 0\n",
            " 1 1 0 0 0 0 1 0 0 0 1 1 0 1 0 0 1 0 0 1 0 0 1 0 0 0 0 0 0 1 0 0 0 0 0 0 0\n",
            " 1 1 1 1 0 1 1 0 0 0 0 0 1 0 0 1 0 0 1 1 0 1 0 0 0 1 0 0 0 1 1 0 1 0 1 1 0\n",
            " 1 0 0 0 0 1 1 0 0 1 0 0 0 1 1 0 1 0 0 1 1 1 1 0 0 1 0 0 0 1 1 0 1 0 0 1 0\n",
            " 0 1 0 0 0 1 0 1 1 1 0 0 0 0 0 0 0 1 0 1 1 0 0 0 0 0 1 1 1 0 0 0 0 1 1 1 1\n",
            " 0 0 0 1 0 0 1 0 0 0 0 0 0 0 1 0 0 1 1 0 1 0 0 1 0 1 0 0 1 0 1 0 0 0 0 0 1\n",
            " 1 0 0 1 0 0 1 0 1 0 1 0 1 1 0 0 1 1 1 0 0 1 0 1 1 1 1 0 1 0 0 1 0 0 0 0 0\n",
            " 1 0 1 1 0 0 0 0 1 0 1 0 0 0 0 1 1 1 1 1 1 1 0 1 0 0 1 0 0 1 0 0 0 0 1 0 0\n",
            " 1 0 0 1 0 1 1 0 0 0 1 1 0 1 0 1 0 0 0 1 1 0 0 1 0 0 1 0 1 0 0 0 0 0 1 1 0\n",
            " 1 0 0 0 1 0 1 0 1 0 0 1 1 1 1 0 0 1 0 1 0 1 0 0 0 1 0 0 0 0 1 0 0 0 0 0 1\n",
            " 0 0 0 1 1 1 0 1 1 0 1 0 1 0 0 0 1 1 1 0 0 1 0 0 0 0 1 1 0 1 0 0 1 0 1 1 0\n",
            " 1 1 1 0 0 0 0 1 1 0 0 1 0 0 1 0 0 0 0 0 1 0 0 0 1 1 1 0 1 0 1 1 1 0 1 0 0\n",
            " 0 1 1 1 0 0 1 0 1 1 0 0 1 1 0 0 0 1 0 1 0 1 0 1 0 1 1 1 1 0 0 0 0 0 0 0 0\n",
            " 0 1 0 1 0 0 1 0 1 1 1 0 1 0 1 0 0 0 0 1 0 0 0 0 0 0 0 0 0 0 0 1 0 0 0 1 0\n",
            " 0 0 0 1 0 1 1 0 0 1 0 1 1 0 0 0 0 1 1 1 1 1 0 0 0 0 0 0 0 0 0 0 0 1 0 1 0\n",
            " 0 0 0 0 1 0 0 0 0 0 0 0 0 0 1 0 0 0 1 0 0 0 0 0 0 1 0 1 0 0 1 0 0 0 0 0 0\n",
            " 1 0 0 0 0 1 1 0 0 0 0 0 1 0 0 1 0 0 0 0 1 0 1 1 0 1 0 0 1 0 0 1 1 0 0 0 1\n",
            " 0 0 0 0 0 1 0 1 0 1]\n"
          ],
          "name": "stdout"
        }
      ]
    },
    {
      "cell_type": "code",
      "metadata": {
        "colab": {
          "base_uri": "https://localhost:8080/"
        },
        "id": "RZEyva5fQNnF",
        "outputId": "520679e9-2f7e-44ed-b3af-ceae13b82c89"
      },
      "source": [
        "print(y_test)"
      ],
      "execution_count": 9,
      "outputs": [
        {
          "output_type": "stream",
          "text": [
            "[0 0 1 0 0 1 0 0 1 0 0 0 1 0 1 0 0 1 0 1 0 0 0 0 0 0 0 1 0 1 0 1 0 0 1 0 0\n",
            " 1 1 0 0 0 0 1 0 1 0 0 1 0 0 0 0 0 1 0 0 0 1 0 0 1 1 0 1 1 0 0 1 1 0 0 0 1\n",
            " 0 0 0 0 0 0 1 0 0 1 1 0 0 1 1 0 0 0 0 0 0 0 0 0 0 0 1 0 0 1 0 1 1 0 0 1 1\n",
            " 1 0 0 0 0 1 0 1 1 0 0 1 0 1 1 0 1 1 0 1 0 0 0 1 0 1 1 0 0 1 0 0 0 0 0 0 0\n",
            " 1 0 0 0 1 1 1 1 0 0 0 0 0 0 0 0 1 0 1 0 0 0 0 1 0 1 0 0 1 0 1 0 1 0 1 0 1\n",
            " 0 1 0 0 0 0 0 1 0 0 0 1 1 1 1 0 0 1 0 1 0 0 0 1 1 0 1 0 0 0 0 1 0 0 0 0 0\n",
            " 0 0 1 1 1 0 1 0 0 0 1 0 0 0 0 1 1 0 1 0 1 0 1 0 0 0 0 0]\n"
          ],
          "name": "stdout"
        }
      ]
    },
    {
      "cell_type": "code",
      "metadata": {
        "id": "WCL46wEpQQZc"
      },
      "source": [
        "from sklearn.preprocessing import StandardScaler\n",
        "sc = StandardScaler()\n",
        "x_train = sc.fit_transform(x_train)\n",
        "x_test = sc.transform(x_test)"
      ],
      "execution_count": 10,
      "outputs": []
    },
    {
      "cell_type": "code",
      "metadata": {
        "colab": {
          "base_uri": "https://localhost:8080/"
        },
        "id": "CgWrdXhZQWI2",
        "outputId": "b1e41abe-15c0-4a5d-ccf0-9e0c6d1733c4"
      },
      "source": [
        "print(x_train)"
      ],
      "execution_count": 11,
      "outputs": [
        {
          "output_type": "stream",
          "text": [
            "[[ 0.89403397  0.72543321]\n",
            " [ 0.6976485   1.06761869]\n",
            " [ 0.43580119  0.72543321]\n",
            " ...\n",
            " [-1.46259175 -1.25924255]\n",
            " [ 0.43580119 -0.23268612]\n",
            " [-0.28427889 -0.23268612]]\n"
          ],
          "name": "stdout"
        }
      ]
    },
    {
      "cell_type": "code",
      "metadata": {
        "colab": {
          "base_uri": "https://localhost:8080/"
        },
        "id": "ic1aC3AlQfhf",
        "outputId": "b6d274e7-f0a1-456d-e62e-8a8e85187a66"
      },
      "source": [
        "print(x_test)"
      ],
      "execution_count": 12,
      "outputs": [
        {
          "output_type": "stream",
          "text": [
            "[[-0.28427889  0.17793645]\n",
            " [ 1.35226676  0.24637354]\n",
            " [-1.72443905 -1.60142803]\n",
            " [ 0.6976485  -0.5064345 ]\n",
            " [ 0.17395389  0.58855902]\n",
            " [ 0.76311032  0.17793645]\n",
            " [ 0.04303024 -0.02737484]\n",
            " [-1.3316681  -1.80673931]\n",
            " [ 2.13780866  1.20449288]\n",
            " [-1.3316681  -2.42267317]\n",
            " [-0.80797349 -1.46455384]\n",
            " [-0.87343532  0.04106226]\n",
            " [ 1.61411406  0.7938703 ]\n",
            " [ 1.15588128  0.72543321]\n",
            " [-1.20074445 -0.91705708]\n",
            " [-2.18267184 -1.9436135 ]\n",
            " [-0.61158802 -1.46455384]\n",
            " [ 0.9594958   1.47824126]\n",
            " [-1.0698208  -1.12236836]\n",
            " [ 0.89403397  0.58855902]\n",
            " [-0.21881706 -0.30112322]\n",
            " [-0.93889715 -0.71174579]\n",
            " [ 0.43580119  0.45168483]\n",
            " [-0.02243159 -0.64330869]\n",
            " [-0.74251167 -1.60142803]\n",
            " [ 0.10849207 -0.30112322]\n",
            " [-0.08789341 -1.05393127]\n",
            " [-0.41520254 -1.73830222]\n",
            " [-0.87343532  0.17793645]\n",
            " [ 0.17395389  1.40980416]\n",
            " [ 0.30487754  1.20449288]\n",
            " [ 1.74503771  0.99918159]\n",
            " [ 1.02495763  1.61511545]\n",
            " [-1.20074445 -0.5064345 ]\n",
            " [-0.93889715 -0.84861998]\n",
            " [ 1.67957588  0.65699611]\n",
            " [ 1.67957588  2.09417511]\n",
            " [ 0.17395389 -0.78018289]\n",
            " [-0.61158802  0.52012192]\n",
            " [ 0.17395389  0.17793645]\n",
            " [ 0.63218667 -0.36956031]\n",
            " [-0.28427889 -0.98549417]\n",
            " [ 0.30487754  0.31481064]\n",
            " [-0.61158802  0.58855902]\n",
            " [ 0.30487754  0.93074449]\n",
            " [-0.93889715 -0.71174579]\n",
            " [ 0.6976485   1.47824126]\n",
            " [-0.48066437 -0.5064345 ]\n",
            " [ 0.6976485   0.8623074 ]\n",
            " [-1.46259175 -0.43799741]\n",
            " [-1.26620627 -2.21736188]\n",
            " [ 0.04303024 -0.5064345 ]\n",
            " [-1.46259175 -1.32767965]\n",
            " [-0.34974071 -0.91705708]\n",
            " [-1.78990088 -1.87517641]\n",
            " [-0.21881706  0.24637354]\n",
            " [-1.26620627 -1.12236836]\n",
            " [ 0.17395389 -0.43799741]\n",
            " [ 0.9594958   0.38324773]\n",
            " [-0.67704984 -0.30112322]\n",
            " [ 0.10849207 -0.09581193]\n",
            " [ 0.50126302  0.65699611]\n",
            " [-1.5935154  -0.98549417]\n",
            " [ 0.17395389  0.52012192]\n",
            " [-0.21881706 -0.16424903]\n",
            " [-0.48066437 -0.02737484]\n",
            " [ 0.63218667  0.24637354]\n",
            " [-1.26620627 -1.05393127]\n",
            " [-0.41520254  0.04106226]\n",
            " [-0.34974071 -1.25924255]\n",
            " [ 0.9594958   0.10949935]\n",
            " [ 1.54865223  1.20449288]\n",
            " [ 0.89403397  0.24637354]\n",
            " [-0.54612619  0.04106226]\n",
            " [-0.15335524 -0.91705708]\n",
            " [ 0.30487754 -0.23268612]\n",
            " [ 0.43580119  0.04106226]\n",
            " [ 0.23941572  0.04106226]\n",
            " [-2.44451914 -2.76485865]\n",
            " [ 0.43580119  0.65699611]\n",
            " [ 0.82857215  0.65699611]\n",
            " [ 0.82857215  1.34136707]\n",
            " [-0.15335524  0.24637354]\n",
            " [ 0.82857215  1.06761869]\n",
            " [ 0.23941572 -0.36956031]\n",
            " [ 0.6976485   0.52012192]\n",
            " [-0.21881706 -0.23268612]\n",
            " [ 1.81049954  1.20449288]\n",
            " [-0.48066437  0.58855902]\n",
            " [-1.52805358 -0.5064345 ]\n",
            " [-0.08789341  0.52012192]\n",
            " [-0.80797349 -0.36956031]\n",
            " [-0.80797349 -0.30112322]\n",
            " [ 0.43580119 -0.91705708]\n",
            " [ 1.28680493  0.45168483]\n",
            " [ 0.23941572  0.31481064]\n",
            " [-0.21881706 -1.46455384]\n",
            " [-0.93889715  0.45168483]\n",
            " [-0.34974071 -0.23268612]\n",
            " [ 0.23941572 -0.30112322]\n",
            " [-2.24813366 -1.25924255]\n",
            " [ 1.54865223  1.40980416]\n",
            " [ 0.04303024 -0.36956031]\n",
            " [-2.11721001 -1.46455384]\n",
            " [ 1.09041945  0.17793645]\n",
            " [ 0.04303024  0.72543321]\n",
            " [-0.21881706  0.24637354]\n",
            " [-0.93889715 -0.30112322]\n",
            " [-1.39712993 -0.43799741]\n",
            " [ 1.35226676  1.47824126]\n",
            " [-0.21881706  0.17793645]\n",
            " [ 0.43580119  0.38324773]\n",
            " [-2.64090462 -2.62798446]\n",
            " [-0.80797349 -0.71174579]\n",
            " [-0.28427889  0.24637354]\n",
            " [ 0.04303024  0.45168483]\n",
            " [ 0.76311032  0.93074449]\n",
            " [ 0.82857215  0.7938703 ]\n",
            " [ 0.82857215  0.8623074 ]\n",
            " [-0.80797349 -0.5748716 ]\n",
            " [-1.3316681  -0.91705708]\n",
            " [ 0.04303024  0.99918159]\n",
            " [ 1.41772858  1.61511545]\n",
            " [ 1.02495763  0.8623074 ]\n",
            " [ 0.82857215  0.31481064]\n",
            " [-1.72443905 -0.30112322]\n",
            " [ 0.50126302  0.31481064]\n",
            " [ 0.23941572  0.58855902]\n",
            " [ 0.6976485  -0.09581193]\n",
            " [-0.34974071 -0.36956031]\n",
            " [ 0.10849207 -0.36956031]\n",
            " [ 0.04303024 -0.36956031]\n",
            " [-2.37905731 -3.10704412]\n",
            " [ 0.9594958   0.7938703 ]\n",
            " [ 0.6976485   1.40980416]\n",
            " [-0.34974071 -0.78018289]\n",
            " [ 0.04303024 -0.5748716 ]\n",
            " [-0.15335524 -0.36956031]\n",
            " [-0.28427889  0.31481064]\n",
            " [ 0.9594958   0.8623074 ]\n",
            " [ 0.10849207  0.31481064]\n",
            " [-0.41520254 -0.09581193]\n",
            " [ 0.30487754 -1.39611674]\n",
            " [ 0.10849207 -0.64330869]\n",
            " [-0.08789341  1.13605578]\n",
            " [-1.65897723 -2.08048769]\n",
            " [-1.85536271 -1.80673931]\n",
            " [-1.20074445 -1.66986512]\n",
            " [ 0.30487754  0.99918159]\n",
            " [ 2.00688501  1.20449288]\n",
            " [-0.54612619 -1.39611674]\n",
            " [ 0.17395389  0.31481064]\n",
            " [ 1.41772858  2.02573802]\n",
            " [ 0.23941572 -0.09581193]\n",
            " [-0.15335524  0.8623074 ]\n",
            " [ 1.28680493  0.7938703 ]\n",
            " [-0.87343532 -1.05393127]\n",
            " [-0.93889715 -0.78018289]\n",
            " [-0.87343532 -0.5064345 ]\n",
            " [-0.48066437 -1.19080546]\n",
            " [ 0.9594958   1.88886383]\n",
            " [-1.72443905 -0.71174579]\n",
            " [-0.87343532 -0.78018289]\n",
            " [ 2.00688501  1.61511545]\n",
            " [-0.08789341 -0.5748716 ]\n",
            " [ 0.30487754  0.93074449]\n",
            " [ 0.04303024  0.65699611]\n",
            " [ 0.9594958  -0.23268612]\n",
            " [-0.02243159 -0.84861998]\n",
            " [ 0.10849207 -0.71174579]\n",
            " [-0.80797349 -0.5748716 ]\n",
            " [-0.61158802 -0.09581193]\n",
            " [-2.90275192 -2.08048769]\n",
            " [-0.67704984 -0.09581193]\n",
            " [ 1.09041945  0.93074449]\n",
            " [ 0.10849207  0.17793645]\n",
            " [ 0.43580119 -0.09581193]\n",
            " [-1.0698208  -1.12236836]\n",
            " [ 1.74503771  2.09417511]\n",
            " [ 1.41772858  0.24637354]\n",
            " [ 0.63218667 -0.5064345 ]\n",
            " [ 0.6976485   1.13605578]\n",
            " [ 0.37033937 -0.16424903]\n",
            " [ 0.30487754 -0.23268612]\n",
            " [ 0.04303024  1.13605578]\n",
            " [ 0.37033937 -0.23268612]\n",
            " [ 1.94142319  1.82042673]\n",
            " [ 2.20327049  2.09417511]\n",
            " [-0.28427889  0.58855902]\n",
            " [-0.48066437 -1.9436135 ]\n",
            " [-0.54612619 -1.32767965]\n",
            " [-0.15335524 -0.64330869]\n",
            " [-1.0698208  -1.46455384]\n",
            " [ 0.30487754  0.93074449]\n",
            " [-0.54612619 -0.64330869]\n",
            " [-0.21881706 -0.5748716 ]\n",
            " [ 0.50126302  1.40980416]\n",
            " [ 1.15588128  0.93074449]\n",
            " [-0.08789341  0.04106226]\n",
            " [-0.28427889 -0.16424903]\n",
            " [ 0.6976485   0.58855902]\n",
            " [ 0.50126302  0.65699611]\n",
            " [-0.28427889 -0.91705708]\n",
            " [ 1.61411406  1.75198964]\n",
            " [-0.34974071  0.04106226]\n",
            " [-2.05174818 -0.5748716 ]\n",
            " [ 0.37033937  0.72543321]\n",
            " [ 0.50126302  1.34136707]\n",
            " [-0.02243159  0.58855902]\n",
            " [ 0.37033937 -0.23268612]\n",
            " [-1.00435897 -0.78018289]\n",
            " [ 1.81049954  1.40980416]\n",
            " [-1.0698208  -0.36956031]\n",
            " [-0.48066437 -0.5064345 ]\n",
            " [-2.24813366 -2.42267317]\n",
            " [-0.74251167  0.45168483]\n",
            " [-0.34974071  1.13605578]\n",
            " [-0.28427889 -0.16424903]\n",
            " [-0.74251167 -0.5748716 ]\n",
            " [-0.08789341  0.45168483]\n",
            " [ 0.56672485  0.7938703 ]\n",
            " [ 0.10849207 -0.09581193]\n",
            " [ 0.37033937 -0.84861998]\n",
            " [-0.21881706  0.38324773]\n",
            " [-0.08789341 -0.30112322]\n",
            " [ 0.76311032  0.52012192]\n",
            " [ 1.15588128  1.34136707]\n",
            " [ 0.17395389 -0.78018289]\n",
            " [-1.3316681  -1.87517641]\n",
            " [-0.28427889 -0.16424903]\n",
            " [-1.98628636 -1.12236836]\n",
            " [-0.87343532  0.10949935]\n",
            " [-0.54612619 -1.25924255]\n",
            " [-1.5935154  -1.19080546]\n",
            " [-0.28427889 -0.5748716 ]\n",
            " [-0.28427889 -0.09581193]\n",
            " [ 0.04303024  0.17793645]\n",
            " [ 0.6976485  -0.5064345 ]\n",
            " [ 0.30487754 -0.02737484]\n",
            " [-1.3316681  -0.36956031]\n",
            " [-0.02243159  0.93074449]\n",
            " [-1.13528262 -1.19080546]\n",
            " [ 0.04303024  0.99918159]\n",
            " [-0.48066437 -0.64330869]\n",
            " [-0.08789341  0.8623074 ]\n",
            " [ 0.30487754  0.04106226]\n",
            " [-0.21881706 -0.5748716 ]\n",
            " [ 1.54865223  1.75198964]\n",
            " [-0.74251167 -0.36956031]\n",
            " [ 0.82857215  1.34136707]]\n"
          ],
          "name": "stdout"
        }
      ]
    },
    {
      "cell_type": "code",
      "metadata": {
        "colab": {
          "base_uri": "https://localhost:8080/"
        },
        "id": "Ulo36V-AQjd1",
        "outputId": "ae35e8bf-4297-4343-edc1-e831901c4485"
      },
      "source": [
        "from sklearn.neighbors import KNeighborsClassifier\n",
        "classifier = KNeighborsClassifier(n_neighbors = 5, metric = 'minkowski', p = 2)\n",
        "classifier.fit(x_train, y_train)"
      ],
      "execution_count": 13,
      "outputs": [
        {
          "output_type": "execute_result",
          "data": {
            "text/plain": [
              "KNeighborsClassifier(algorithm='auto', leaf_size=30, metric='minkowski',\n",
              "                     metric_params=None, n_jobs=None, n_neighbors=5, p=2,\n",
              "                     weights='uniform')"
            ]
          },
          "metadata": {
            "tags": []
          },
          "execution_count": 13
        }
      ]
    },
    {
      "cell_type": "code",
      "metadata": {
        "id": "WXpP4s6hQq2b"
      },
      "source": [
        "y_pred = classifier.predict(x_test)"
      ],
      "execution_count": 14,
      "outputs": []
    },
    {
      "cell_type": "code",
      "metadata": {
        "colab": {
          "base_uri": "https://localhost:8080/"
        },
        "id": "rtiZ2c9aQuiJ",
        "outputId": "8e4e709e-e6f4-4b8c-f2bf-c504d7867609"
      },
      "source": [
        "from sklearn.metrics import confusion_matrix\n",
        "cm = confusion_matrix(y_test, y_pred)\n",
        "print(cm)"
      ],
      "execution_count": 15,
      "outputs": [
        {
          "output_type": "stream",
          "text": [
            "[[126  38]\n",
            " [ 54  32]]\n"
          ],
          "name": "stdout"
        }
      ]
    },
    {
      "cell_type": "code",
      "metadata": {
        "colab": {
          "base_uri": "https://localhost:8080/",
          "height": 349
        },
        "id": "6Ie0LvO3Qwwt",
        "outputId": "2dd7e398-7c04-41f5-9c01-bd649afd26e2"
      },
      "source": [
        "\n",
        "from matplotlib.colors import ListedColormap\n",
        "x_set, y_set = x_train, y_train\n",
        "x1, x2 = np.meshgrid(np.arange(start = x_set[:, 0].min() - 1, stop = x_set[:, 0].max() + 1, step = 0.01),\n",
        "                     np.arange(start = x_set[:, 1].min() - 1, stop = x_set[:, 1].max() + 1, step = 0.01))\n",
        "plt.contourf(x1,x2, classifier.predict(np.array([x1.ravel(), x2.ravel()]).T).reshape(x1.shape),\n",
        "            alpha = 0.75, cmap = ListedColormap(('red','green')))\n",
        "plt.xlim(x1.min(),x1.max())\n",
        "plt.xlim(x2.min(),x2.max())\n",
        "for i,j in enumerate(np.unique(y_set)):\n",
        "  plt.scatter(x_set[y_set == j, 0],x_set[y_set == j, 1],\n",
        "              c = ListedColormap(('red','green'))(i),label = j)\n",
        "plt.title('K-NN')\n",
        "plt.xlabel('Math Score')\n",
        "plt.ylabel('Reading Score')\n",
        "plt.legend()\n",
        "plt.show()"
      ],
      "execution_count": 16,
      "outputs": [
        {
          "output_type": "stream",
          "text": [
            "*c* argument looks like a single numeric RGB or RGBA sequence, which should be avoided as value-mapping will have precedence in case its length matches with *x* & *y*.  Please use the *color* keyword-argument or provide a 2-D array with a single row if you intend to specify the same RGB or RGBA value for all points.\n",
            "*c* argument looks like a single numeric RGB or RGBA sequence, which should be avoided as value-mapping will have precedence in case its length matches with *x* & *y*.  Please use the *color* keyword-argument or provide a 2-D array with a single row if you intend to specify the same RGB or RGBA value for all points.\n"
          ],
          "name": "stderr"
        },
        {
          "output_type": "display_data",
          "data": {
            "image/png": "[encoded data removed]",
            "text/plain": [
              "<Figure size 432x288 with 1 Axes>"
            ]
          },
          "metadata": {
            "tags": [],
            "needs_background": "light"
          }
        }
      ]
    },
    {
      "cell_type": "code",
      "metadata": {
        "colab": {
          "base_uri": "https://localhost:8080/",
          "height": 349
        },
        "id": "wVE79mYcQ1oS",
        "outputId": "c1caeb17-47ef-4346-eac1-8ef1e9bb3cc2"
      },
      "source": [
        "from matplotlib.colors import ListedColormap\n",
        "x_set, y_set = x_test, y_test\n",
        "x1, x2 = np.meshgrid(np.arange(start = x_set[:, 0].min() - 1, stop = x_set[:, 0].max() + 1, step = 0.01),\n",
        "                     np.arange(start = x_set[:, 1].min() - 1, stop = x_set[:, 1].max() + 1, step = 0.01))\n",
        "plt.contourf(x1,x2, classifier.predict(np.array([x1.ravel(), x2.ravel()]).T).reshape(x1.shape),\n",
        "            alpha = 0.75, cmap = ListedColormap(('red','green')))\n",
        "plt.xlim(x1.min(),x1.max())\n",
        "plt.xlim(x2.min(),x2.max())\n",
        "for i,j in enumerate(np.unique(y_set)):\n",
        "  plt.scatter(x_set[y_set == j, 0],x_set[y_set == j, 1],\n",
        "              c = ListedColormap(('red','green'))(i),label = j)\n",
        "plt.title('K-NN')\n",
        "plt.xlabel('Math Score')\n",
        "plt.ylabel('Reading Score')\n",
        "plt.legend()\n",
        "plt.show()"
      ],
      "execution_count": 17,
      "outputs": [
        {
          "output_type": "stream",
          "text": [
            "*c* argument looks like a single numeric RGB or RGBA sequence, which should be avoided as value-mapping will have precedence in case its length matches with *x* & *y*.  Please use the *color* keyword-argument or provide a 2-D array with a single row if you intend to specify the same RGB or RGBA value for all points.\n",
            "*c* argument looks like a single numeric RGB or RGBA sequence, which should be avoided as value-mapping will have precedence in case its length matches with *x* & *y*.  Please use the *color* keyword-argument or provide a 2-D array with a single row if you intend to specify the same RGB or RGBA value for all points.\n"
          ],
          "name": "stderr"
        },
        {
          "output_type": "display_data",
          "data": {
            "image/png": "[encoded data removed]",
            "text/plain": [
              "<Figure size 432x288 with 1 Axes>"
            ]
          },
          "metadata": {
            "tags": [],
            "needs_background": "light"
          }
        }
      ]
    }
  ]
}