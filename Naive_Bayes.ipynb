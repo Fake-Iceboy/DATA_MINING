{
  "nbformat": 4,
  "nbformat_minor": 0,
  "metadata": {
    "colab": {
      "name": "Naive_Bayes.ipynb",
      "provenance": [],
      "collapsed_sections": []
    },
    "kernelspec": {
      "name": "python3",
      "display_name": "Python 3"
    },
    "language_info": {
      "name": "python"
    }
  },
  "cells": [
    {
      "cell_type": "code",
      "metadata": {
        "id": "yjddy2mfCz5P"
      },
      "source": [
        "import numpy as np\n",
        "import matplotlib.pyplot as plt\n",
        "import pandas as pd"
      ],
      "execution_count": 1,
      "outputs": []
    },
    {
      "cell_type": "code",
      "metadata": {
        "id": "zCeIQEuVDSaS"
      },
      "source": [
        "dataset = pd.read_csv('dataset uhuyy.csv')\n",
        "x = dataset.iloc[:, [5,6]].values\n",
        "y = dataset.iloc[:, -4].values"
      ],
      "execution_count": 2,
      "outputs": []
    },
    {
      "cell_type": "markdown",
      "metadata": {
        "id": "RKIj4qGabNm0"
      },
      "source": [
        "Menggunakan data dari Math Score dan Reading Score"
      ]
    },
    {
      "cell_type": "code",
      "metadata": {
        "colab": {
          "base_uri": "https://localhost:8080/"
        },
        "id": "X_2W859tEEXF",
        "outputId": "c3eb0b6b-5b3e-405a-81ae-4ff78f41ecec"
      },
      "source": [
        "print(x)"
      ],
      "execution_count": 3,
      "outputs": [
        {
          "output_type": "stream",
          "text": [
            "[[72 72]\n",
            " [69 90]\n",
            " [90 95]\n",
            " ...\n",
            " [59 71]\n",
            " [68 78]\n",
            " [77 86]]\n"
          ],
          "name": "stdout"
        }
      ]
    },
    {
      "cell_type": "code",
      "metadata": {
        "colab": {
          "base_uri": "https://localhost:8080/"
        },
        "id": "hOPOaK2kEnFs",
        "outputId": "b78ea0d5-5981-48b0-ea2f-5ede3088d0f1"
      },
      "source": [
        "print(y)"
      ],
      "execution_count": 4,
      "outputs": [
        {
          "output_type": "stream",
          "text": [
            "[0 1 0 0 0 0 1 0 1 0 0 0 0 1 0 0 0 0 1 0 0 1 0 0 1 0 0 0 0 0 0 0 0 0 0 1 0\n",
            " 0 1 0 0 0 0 1 0 0 1 0 1 1 0 1 0 0 1 0 1 0 1 0 1 0 0 0 0 0 0 0 0 0 1 1 0 0\n",
            " 0 0 0 1 1 0 0 0 1 0 0 0 0 0 0 0 0 0 0 1 0 1 1 1 0 0 0 1 0 1 1 0 0 1 0 0 1\n",
            " 0 0 0 1 0 0 0 0 0 1 1 1 0 0 0 0 1 0 0 0 1 1 1 1 0 1 0 0 1 0 0 1 0 0 0 0 0\n",
            " 1 1 1 0 1 0 0 1 1 0 1 0 1 1 0 0 0 1 1 1 1 1 1 0 0 0 1 1 1 1 1 1 1 0 0 0 1\n",
            " 1 0 1 0 0 0 1 0 1 1 0 1 0 0 0 1 0 0 0 0 1 0 1 0 0 1 0 0 1 1 1 1 0 0 1 1 0\n",
            " 0 0 1 0 0 0 0 1 0 0 0 0 1 0 0 1 0 0 1 0 0 0 0 0 0 1 0 0 1 0 1 0 0 0 0 1 0\n",
            " 1 1 1 0 0 0 0 0 0 1 0 0 0 0 0 1 0 1 1 0 0 0 0 0 1 0 1 1 0 0 1 0 0 1 0 1 0\n",
            " 1 1 1 0 1 0 1 0 1 0 1 0 0 0 0 0 1 1 1 0 1 0 0 0 1 0 0 0 0 0 0 0 1 0 0 0 1\n",
            " 0 0 0 1 0 0 1 0 0 1 1 0 0 0 1 0 0 0 0 1 0 0 0 0 1 0 0 0 1 0 0 0 1 1 0 0 0\n",
            " 0 1 0 1 0 0 0 1 0 0 0 1 0 0 0 0 0 0 0 0 1 0 0 1 1 0 0 0 0 0 1 0 0 1 0 0 1\n",
            " 0 1 1 1 1 0 1 1 0 1 0 0 1 1 1 1 1 0 0 0 0 0 0 0 0 0 0 0 1 0 0 0 1 1 0 0 0\n",
            " 0 1 0 1 0 0 1 0 0 0 0 0 0 0 0 1 0 0 0 0 1 0 0 1 1 0 1 0 1 0 1 1 1 0 0 0 1\n",
            " 0 0 0 0 0 0 0 1 1 0 0 0 0 0 1 0 1 0 0 0 1 0 1 0 0 0 0 0 0 0 0 0 1 1 1 0 1\n",
            " 1 1 0 0 0 0 1 0 1 0 0 0 1 0 1 1 1 1 1 0 1 1 1 1 0 0 0 1 1 1 0 0 0 1 0 0 0\n",
            " 0 1 0 0 0 1 0 1 1 0 0 1 1 0 0 1 0 0 1 0 1 1 0 1 0 0 0 0 1 0 0 0 0 0 0 0 0\n",
            " 0 0 1 1 0 0 0 0 0 0 0 0 1 0 0 0 0 0 1 0 1 0 0 0 0 0 0 1 0 0 1 1 0 1 1 0 0\n",
            " 1 0 0 1 0 0 0 1 1 0 0 0 1 0 1 0 1 0 0 0 1 1 1 1 1 0 0 0 0 0 0 0 0 0 0 0 1\n",
            " 1 0 0 1 0 0 0 1 1 1 1 1 0 0 0 0 0 1 1 1 1 0 0 0 0 0 1 0 0 0 1 0 1 0 1 0 1\n",
            " 0 1 0 0 0 0 1 1 1 0 0 1 1 1 1 0 1 0 1 1 0 0 1 1 1 0 0 1 0 1 0 0 0 0 1 0 0\n",
            " 0 0 0 1 0 0 0 0 0 1 1 0 1 1 0 0 0 1 1 1 0 0 1 0 0 0 1 1 0 0 0 0 1 0 0 0 0\n",
            " 0 1 1 0 0 1 1 1 1 0 0 0 0 0 0 0 1 0 1 0 0 0 0 1 1 0 0 0 0 0 0 0 0 0 0 1 1\n",
            " 0 1 0 1 0 0 1 0 1 0 0 0 1 0 1 0 0 1 0 1 0 1 0 1 1 0 0 0 1 1 1 0 1 0 0 0 0\n",
            " 0 0 0 0 0 0 0 1 0 0 0 1 1 0 1 0 0 1 0 0 1 1 0 0 0 0 0 0 0 1 1 0 0 0 1 1 0\n",
            " 0 0 1 0 0 1 0 0 0 1 1 1 0 0 1 1 0 0 0 1 0 1 0 0 1 1 0 0 1 0 1 1 0 0 0 0 0\n",
            " 1 0 1 1 0 1 0 1 1 1 0 0 0 1 1 1 0 0 1 0 0 0 0 1 1 0 1 0 1 0 0 0 0 0 0 0 0\n",
            " 0 1 0 0 1 0 0 0 0 1 1 0 0 1 1 0 1 0 0 0 1 1 0 0 0 1 0 1 1 1 0 0 0 1 0 1 1\n",
            " 0]\n"
          ],
          "name": "stdout"
        }
      ]
    },
    {
      "cell_type": "code",
      "metadata": {
        "id": "6DUz-RV5Epqi"
      },
      "source": [
        "from sklearn.model_selection import train_test_split\n",
        "x_train, x_test, y_train, y_test = train_test_split(x, y, test_size=0.25, random_state=0)"
      ],
      "execution_count": 5,
      "outputs": []
    },
    {
      "cell_type": "code",
      "metadata": {
        "colab": {
          "base_uri": "https://localhost:8080/"
        },
        "id": "w4YFtOWcE_Ue",
        "outputId": "6fa65def-b415-4747-a837-18f713e05c13"
      },
      "source": [
        "print(x_train)"
      ],
      "execution_count": 6,
      "outputs": [
        {
          "output_type": "stream",
          "text": [
            "[[80 80]\n",
            " [77 85]\n",
            " [73 80]\n",
            " ...\n",
            " [44 51]\n",
            " [73 66]\n",
            " [62 66]]\n"
          ],
          "name": "stdout"
        }
      ]
    },
    {
      "cell_type": "code",
      "metadata": {
        "colab": {
          "base_uri": "https://localhost:8080/"
        },
        "id": "uqDz2H7LFFWP",
        "outputId": "16a23cb8-6eac-4c8b-ab03-69d02b472bf1"
      },
      "source": [
        "print(x_test)"
      ],
      "execution_count": 7,
      "outputs": [
        {
          "output_type": "stream",
          "text": [
            "[[ 62  72]\n",
            " [ 87  73]\n",
            " [ 40  46]\n",
            " [ 77  62]\n",
            " [ 69  78]\n",
            " [ 78  72]\n",
            " [ 67  69]\n",
            " [ 46  43]\n",
            " [ 99  87]\n",
            " [ 46  34]\n",
            " [ 54  48]\n",
            " [ 53  70]\n",
            " [ 91  81]\n",
            " [ 84  80]\n",
            " [ 48  56]\n",
            " [ 33  41]\n",
            " [ 57  48]\n",
            " [ 81  91]\n",
            " [ 50  53]\n",
            " [ 80  78]\n",
            " [ 63  65]\n",
            " [ 52  59]\n",
            " [ 73  76]\n",
            " [ 66  60]\n",
            " [ 55  46]\n",
            " [ 68  65]\n",
            " [ 65  54]\n",
            " [ 60  44]\n",
            " [ 53  72]\n",
            " [ 69  90]\n",
            " [ 71  87]\n",
            " [ 93  84]\n",
            " [ 82  93]\n",
            " [ 48  62]\n",
            " [ 52  57]\n",
            " [ 92  79]\n",
            " [ 92 100]\n",
            " [ 69  58]\n",
            " [ 57  77]\n",
            " [ 69  72]\n",
            " [ 76  64]\n",
            " [ 62  55]\n",
            " [ 71  74]\n",
            " [ 57  78]\n",
            " [ 71  83]\n",
            " [ 52  59]\n",
            " [ 77  91]\n",
            " [ 59  62]\n",
            " [ 77  82]\n",
            " [ 44  63]\n",
            " [ 47  37]\n",
            " [ 67  62]\n",
            " [ 44  50]\n",
            " [ 61  56]\n",
            " [ 39  42]\n",
            " [ 63  73]\n",
            " [ 47  53]\n",
            " [ 69  63]\n",
            " [ 81  75]\n",
            " [ 56  65]\n",
            " [ 68  68]\n",
            " [ 74  79]\n",
            " [ 42  55]\n",
            " [ 69  77]\n",
            " [ 63  67]\n",
            " [ 59  69]\n",
            " [ 76  73]\n",
            " [ 47  54]\n",
            " [ 60  70]\n",
            " [ 61  51]\n",
            " [ 81  71]\n",
            " [ 90  87]\n",
            " [ 80  73]\n",
            " [ 58  70]\n",
            " [ 64  56]\n",
            " [ 71  66]\n",
            " [ 73  70]\n",
            " [ 70  70]\n",
            " [ 29  29]\n",
            " [ 73  79]\n",
            " [ 79  79]\n",
            " [ 79  89]\n",
            " [ 64  73]\n",
            " [ 79  85]\n",
            " [ 70  64]\n",
            " [ 77  77]\n",
            " [ 63  66]\n",
            " [ 94  87]\n",
            " [ 59  78]\n",
            " [ 43  62]\n",
            " [ 65  77]\n",
            " [ 54  64]\n",
            " [ 54  65]\n",
            " [ 73  56]\n",
            " [ 86  76]\n",
            " [ 70  74]\n",
            " [ 63  48]\n",
            " [ 52  76]\n",
            " [ 61  66]\n",
            " [ 70  65]\n",
            " [ 32  51]\n",
            " [ 90  90]\n",
            " [ 67  64]\n",
            " [ 34  48]\n",
            " [ 83  72]\n",
            " [ 67  80]\n",
            " [ 63  73]\n",
            " [ 52  65]\n",
            " [ 45  63]\n",
            " [ 87  91]\n",
            " [ 63  72]\n",
            " [ 73  75]\n",
            " [ 26  31]\n",
            " [ 54  59]\n",
            " [ 62  73]\n",
            " [ 67  76]\n",
            " [ 78  83]\n",
            " [ 79  81]\n",
            " [ 79  82]\n",
            " [ 54  61]\n",
            " [ 46  56]\n",
            " [ 67  84]\n",
            " [ 88  93]\n",
            " [ 82  82]\n",
            " [ 79  74]\n",
            " [ 40  65]\n",
            " [ 74  74]\n",
            " [ 70  78]\n",
            " [ 77  68]\n",
            " [ 61  64]\n",
            " [ 68  64]\n",
            " [ 67  64]\n",
            " [ 30  24]\n",
            " [ 81  81]\n",
            " [ 77  90]\n",
            " [ 61  58]\n",
            " [ 67  61]\n",
            " [ 64  64]\n",
            " [ 62  74]\n",
            " [ 81  82]\n",
            " [ 68  74]\n",
            " [ 60  68]\n",
            " [ 71  49]\n",
            " [ 68  60]\n",
            " [ 65  86]\n",
            " [ 41  39]\n",
            " [ 38  43]\n",
            " [ 48  45]\n",
            " [ 71  84]\n",
            " [ 97  87]\n",
            " [ 58  49]\n",
            " [ 69  74]\n",
            " [ 88  99]\n",
            " [ 70  68]\n",
            " [ 64  82]\n",
            " [ 86  81]\n",
            " [ 53  54]\n",
            " [ 52  58]\n",
            " [ 53  62]\n",
            " [ 59  52]\n",
            " [ 81  97]\n",
            " [ 40  59]\n",
            " [ 53  58]\n",
            " [ 97  93]\n",
            " [ 65  61]\n",
            " [ 71  83]\n",
            " [ 67  79]\n",
            " [ 81  66]\n",
            " [ 66  57]\n",
            " [ 68  59]\n",
            " [ 54  61]\n",
            " [ 57  68]\n",
            " [ 22  39]\n",
            " [ 56  68]\n",
            " [ 83  83]\n",
            " [ 68  72]\n",
            " [ 73  68]\n",
            " [ 50  53]\n",
            " [ 93 100]\n",
            " [ 88  73]\n",
            " [ 76  62]\n",
            " [ 77  86]\n",
            " [ 72  67]\n",
            " [ 71  66]\n",
            " [ 67  86]\n",
            " [ 72  66]\n",
            " [ 96  96]\n",
            " [100 100]\n",
            " [ 62  78]\n",
            " [ 59  41]\n",
            " [ 58  50]\n",
            " [ 64  60]\n",
            " [ 50  48]\n",
            " [ 71  83]\n",
            " [ 58  60]\n",
            " [ 63  61]\n",
            " [ 74  90]\n",
            " [ 84  83]\n",
            " [ 65  70]\n",
            " [ 62  67]\n",
            " [ 77  78]\n",
            " [ 74  79]\n",
            " [ 62  56]\n",
            " [ 91  95]\n",
            " [ 61  70]\n",
            " [ 35  61]\n",
            " [ 72  80]\n",
            " [ 74  89]\n",
            " [ 66  78]\n",
            " [ 72  66]\n",
            " [ 51  58]\n",
            " [ 94  90]\n",
            " [ 50  64]\n",
            " [ 59  62]\n",
            " [ 32  34]\n",
            " [ 55  76]\n",
            " [ 61  86]\n",
            " [ 62  67]\n",
            " [ 55  61]\n",
            " [ 65  76]\n",
            " [ 75  81]\n",
            " [ 68  68]\n",
            " [ 72  57]\n",
            " [ 63  75]\n",
            " [ 65  65]\n",
            " [ 78  77]\n",
            " [ 84  89]\n",
            " [ 69  58]\n",
            " [ 46  42]\n",
            " [ 62  67]\n",
            " [ 36  53]\n",
            " [ 53  71]\n",
            " [ 58  51]\n",
            " [ 42  52]\n",
            " [ 62  61]\n",
            " [ 62  68]\n",
            " [ 67  72]\n",
            " [ 77  62]\n",
            " [ 71  69]\n",
            " [ 46  64]\n",
            " [ 66  83]\n",
            " [ 49  52]\n",
            " [ 67  84]\n",
            " [ 59  60]\n",
            " [ 65  82]\n",
            " [ 71  70]\n",
            " [ 63  61]\n",
            " [ 90  95]\n",
            " [ 55  64]\n",
            " [ 79  89]]\n"
          ],
          "name": "stdout"
        }
      ]
    },
    {
      "cell_type": "code",
      "metadata": {
        "colab": {
          "base_uri": "https://localhost:8080/"
        },
        "id": "Ufp__LvbFK_Q",
        "outputId": "28d6a327-153f-4440-e8f9-f0a3f0d315a9"
      },
      "source": [
        "print(y_train)"
      ],
      "execution_count": 8,
      "outputs": [
        {
          "output_type": "stream",
          "text": [
            "[0 0 0 0 0 0 0 0 0 1 0 1 0 0 0 0 0 0 1 1 1 0 0 0 0 0 0 1 0 0 0 0 1 0 1 0 0\n",
            " 0 1 0 1 1 0 0 1 1 1 0 0 0 0 0 0 0 0 0 0 0 1 0 1 0 1 0 0 0 1 1 1 1 1 0 0 0\n",
            " 0 0 1 1 0 0 1 0 0 0 0 1 0 1 1 1 0 0 0 0 0 0 1 1 0 1 0 0 0 0 0 0 0 1 0 0 0\n",
            " 0 0 0 0 0 1 0 1 0 1 1 1 1 1 0 0 0 0 1 0 0 0 1 0 0 0 1 1 0 0 1 0 0 1 0 0 0\n",
            " 1 1 0 0 0 0 1 0 0 0 1 1 0 1 0 0 1 0 0 1 0 0 1 0 0 0 0 0 0 1 0 0 0 0 0 0 0\n",
            " 1 1 1 1 0 1 1 0 0 0 0 0 1 0 0 1 0 0 1 1 0 1 0 0 0 1 0 0 0 1 1 0 1 0 1 1 0\n",
            " 1 0 0 0 0 1 1 0 0 1 0 0 0 1 1 0 1 0 0 1 1 1 1 0 0 1 0 0 0 1 1 0 1 0 0 1 0\n",
            " 0 1 0 0 0 1 0 1 1 1 0 0 0 0 0 0 0 1 0 1 1 0 0 0 0 0 1 1 1 0 0 0 0 1 1 1 1\n",
            " 0 0 0 1 0 0 1 0 0 0 0 0 0 0 1 0 0 1 1 0 1 0 0 1 0 1 0 0 1 0 1 0 0 0 0 0 1\n",
            " 1 0 0 1 0 0 1 0 1 0 1 0 1 1 0 0 1 1 1 0 0 1 0 1 1 1 1 0 1 0 0 1 0 0 0 0 0\n",
            " 1 0 1 1 0 0 0 0 1 0 1 0 0 0 0 1 1 1 1 1 1 1 0 1 0 0 1 0 0 1 0 0 0 0 1 0 0\n",
            " 1 0 0 1 0 1 1 0 0 0 1 1 0 1 0 1 0 0 0 1 1 0 0 1 0 0 1 0 1 0 0 0 0 0 1 1 0\n",
            " 1 0 0 0 1 0 1 0 1 0 0 1 1 1 1 0 0 1 0 1 0 1 0 0 0 1 0 0 0 0 1 0 0 0 0 0 1\n",
            " 0 0 0 1 1 1 0 1 1 0 1 0 1 0 0 0 1 1 1 0 0 1 0 0 0 0 1 1 0 1 0 0 1 0 1 1 0\n",
            " 1 1 1 0 0 0 0 1 1 0 0 1 0 0 1 0 0 0 0 0 1 0 0 0 1 1 1 0 1 0 1 1 1 0 1 0 0\n",
            " 0 1 1 1 0 0 1 0 1 1 0 0 1 1 0 0 0 1 0 1 0 1 0 1 0 1 1 1 1 0 0 0 0 0 0 0 0\n",
            " 0 1 0 1 0 0 1 0 1 1 1 0 1 0 1 0 0 0 0 1 0 0 0 0 0 0 0 0 0 0 0 1 0 0 0 1 0\n",
            " 0 0 0 1 0 1 1 0 0 1 0 1 1 0 0 0 0 1 1 1 1 1 0 0 0 0 0 0 0 0 0 0 0 1 0 1 0\n",
            " 0 0 0 0 1 0 0 0 0 0 0 0 0 0 1 0 0 0 1 0 0 0 0 0 0 1 0 1 0 0 1 0 0 0 0 0 0\n",
            " 1 0 0 0 0 1 1 0 0 0 0 0 1 0 0 1 0 0 0 0 1 0 1 1 0 1 0 0 1 0 0 1 1 0 0 0 1\n",
            " 0 0 0 0 0 1 0 1 0 1]\n"
          ],
          "name": "stdout"
        }
      ]
    },
    {
      "cell_type": "code",
      "metadata": {
        "colab": {
          "base_uri": "https://localhost:8080/"
        },
        "id": "jffKdiAxFOKc",
        "outputId": "1157a6ee-a799-4116-ae5a-a78c1ff164e1"
      },
      "source": [
        "print(y_test)"
      ],
      "execution_count": 9,
      "outputs": [
        {
          "output_type": "stream",
          "text": [
            "[0 0 1 0 0 1 0 0 1 0 0 0 1 0 1 0 0 1 0 1 0 0 0 0 0 0 0 1 0 1 0 1 0 0 1 0 0\n",
            " 1 1 0 0 0 0 1 0 1 0 0 1 0 0 0 0 0 1 0 0 0 1 0 0 1 1 0 1 1 0 0 1 1 0 0 0 1\n",
            " 0 0 0 0 0 0 1 0 0 1 1 0 0 1 1 0 0 0 0 0 0 0 0 0 0 0 1 0 0 1 0 1 1 0 0 1 1\n",
            " 1 0 0 0 0 1 0 1 1 0 0 1 0 1 1 0 1 1 0 1 0 0 0 1 0 1 1 0 0 1 0 0 0 0 0 0 0\n",
            " 1 0 0 0 1 1 1 1 0 0 0 0 0 0 0 0 1 0 1 0 0 0 0 1 0 1 0 0 1 0 1 0 1 0 1 0 1\n",
            " 0 1 0 0 0 0 0 1 0 0 0 1 1 1 1 0 0 1 0 1 0 0 0 1 1 0 1 0 0 0 0 1 0 0 0 0 0\n",
            " 0 0 1 1 1 0 1 0 0 0 1 0 0 0 0 1 1 0 1 0 1 0 1 0 0 0 0 0]\n"
          ],
          "name": "stdout"
        }
      ]
    },
    {
      "cell_type": "code",
      "metadata": {
        "id": "-sN8QXsEFSbK"
      },
      "source": [
        "from sklearn.preprocessing import StandardScaler\n",
        "sc = StandardScaler()\n",
        "x_train = sc.fit_transform(x_train)\n",
        "x_test = sc.fit_transform(x_test)"
      ],
      "execution_count": 10,
      "outputs": []
    },
    {
      "cell_type": "code",
      "metadata": {
        "colab": {
          "base_uri": "https://localhost:8080/"
        },
        "id": "D25KUWRTFz7J",
        "outputId": "a1741749-64a6-4266-e3e4-46f7a78ceb56"
      },
      "source": [
        "print(x_train)"
      ],
      "execution_count": 11,
      "outputs": [
        {
          "output_type": "stream",
          "text": [
            "[[ 0.89403397  0.72543321]\n",
            " [ 0.6976485   1.06761869]\n",
            " [ 0.43580119  0.72543321]\n",
            " ...\n",
            " [-1.46259175 -1.25924255]\n",
            " [ 0.43580119 -0.23268612]\n",
            " [-0.28427889 -0.23268612]]\n"
          ],
          "name": "stdout"
        }
      ]
    },
    {
      "cell_type": "code",
      "metadata": {
        "colab": {
          "base_uri": "https://localhost:8080/"
        },
        "id": "4UplnB1qGHrg",
        "outputId": "bd2e66c5-801b-4b3f-eb20-edad361ac610"
      },
      "source": [
        "print(x_test)"
      ],
      "execution_count": 12,
      "outputs": [
        {
          "output_type": "stream",
          "text": [
            "[[-0.22544796  0.24280857]\n",
            " [ 1.46812147  0.31170998]\n",
            " [-1.71578906 -1.54862809]\n",
            " [ 0.7906937  -0.44620553]\n",
            " [ 0.24875148  0.65621703]\n",
            " [ 0.85843647  0.24280857]\n",
            " [ 0.11326592  0.03610434]\n",
            " [-1.3093324  -1.75533232]\n",
            " [ 2.2810348   1.27632972]\n",
            " [-1.3093324  -2.37544501]\n",
            " [-0.76739018 -1.41082527]\n",
            " [-0.83513296  0.10500575]\n",
            " [ 1.73909258  0.86292126]\n",
            " [ 1.26489314  0.79401985]\n",
            " [-1.17384685 -0.85961399]\n",
            " [-2.18998851 -1.89313514]\n",
            " [-0.56416185 -1.41082527]\n",
            " [ 1.06166481  1.55193536]\n",
            " [-1.03836129 -1.06631822]\n",
            " [ 0.99392203  0.65621703]\n",
            " [-0.15770519 -0.2395013 ]\n",
            " [-0.90287574 -0.65290976]\n",
            " [ 0.51972259  0.51841421]\n",
            " [ 0.04552315 -0.58400835]\n",
            " [-0.6996474  -1.54862809]\n",
            " [ 0.1810087  -0.2395013 ]\n",
            " [-0.02221963 -0.99741681]\n",
            " [-0.36093352 -1.68643091]\n",
            " [-0.83513296  0.24280857]\n",
            " [ 0.24875148  1.48303395]\n",
            " [ 0.38423703  1.27632972]\n",
            " [ 1.87457813  1.06962549]\n",
            " [ 1.12940758  1.68973818]\n",
            " [-1.17384685 -0.44620553]\n",
            " [-0.90287574 -0.79071258]\n",
            " [ 1.80683536  0.72511844]\n",
            " [ 1.80683536  2.17204805]\n",
            " [ 0.24875148 -0.72181117]\n",
            " [-0.56416185  0.58731562]\n",
            " [ 0.24875148  0.24280857]\n",
            " [ 0.72295092 -0.30840271]\n",
            " [-0.22544796 -0.9285154 ]\n",
            " [ 0.38423703  0.38061139]\n",
            " [-0.56416185  0.65621703]\n",
            " [ 0.38423703  1.00072408]\n",
            " [-0.90287574 -0.65290976]\n",
            " [ 0.7906937   1.55193536]\n",
            " [-0.4286763  -0.44620553]\n",
            " [ 0.7906937   0.93182267]\n",
            " [-1.44481796 -0.37730412]\n",
            " [-1.24158962 -2.16874078]\n",
            " [ 0.11326592 -0.44620553]\n",
            " [-1.44481796 -1.27302245]\n",
            " [-0.29319074 -0.85961399]\n",
            " [-1.78353184 -1.82423373]\n",
            " [-0.15770519  0.31170998]\n",
            " [-1.24158962 -1.06631822]\n",
            " [ 0.24875148 -0.37730412]\n",
            " [ 1.06166481  0.4495128 ]\n",
            " [-0.63190463 -0.2395013 ]\n",
            " [ 0.1810087  -0.03279707]\n",
            " [ 0.58746537  0.72511844]\n",
            " [-1.58030351 -0.9285154 ]\n",
            " [ 0.24875148  0.58731562]\n",
            " [-0.15770519 -0.10169848]\n",
            " [-0.4286763   0.03610434]\n",
            " [ 0.72295092  0.31170998]\n",
            " [-1.24158962 -0.99741681]\n",
            " [-0.36093352  0.10500575]\n",
            " [-0.29319074 -1.20412104]\n",
            " [ 1.06166481  0.17390716]\n",
            " [ 1.6713498   1.27632972]\n",
            " [ 0.99392203  0.31170998]\n",
            " [-0.49641907  0.10500575]\n",
            " [-0.08996241 -0.85961399]\n",
            " [ 0.38423703 -0.17059989]\n",
            " [ 0.51972259  0.10500575]\n",
            " [ 0.31649426  0.10500575]\n",
            " [-2.46095962 -2.71995206]\n",
            " [ 0.51972259  0.72511844]\n",
            " [ 0.92617925  0.72511844]\n",
            " [ 0.92617925  1.41413254]\n",
            " [-0.08996241  0.31170998]\n",
            " [ 0.92617925  1.1385269 ]\n",
            " [ 0.31649426 -0.30840271]\n",
            " [ 0.7906937   0.58731562]\n",
            " [-0.15770519 -0.17059989]\n",
            " [ 1.94232091  1.27632972]\n",
            " [-0.4286763   0.65621703]\n",
            " [-1.51256073 -0.44620553]\n",
            " [-0.02221963  0.58731562]\n",
            " [-0.76739018 -0.30840271]\n",
            " [-0.76739018 -0.2395013 ]\n",
            " [ 0.51972259 -0.85961399]\n",
            " [ 1.40037869  0.51841421]\n",
            " [ 0.31649426  0.38061139]\n",
            " [-0.15770519 -1.41082527]\n",
            " [-0.90287574  0.51841421]\n",
            " [-0.29319074 -0.17059989]\n",
            " [ 0.31649426 -0.2395013 ]\n",
            " [-2.25773128 -1.20412104]\n",
            " [ 1.6713498   1.48303395]\n",
            " [ 0.11326592 -0.30840271]\n",
            " [-2.12224573 -1.41082527]\n",
            " [ 1.19715036  0.24280857]\n",
            " [ 0.11326592  0.79401985]\n",
            " [-0.15770519  0.31170998]\n",
            " [-0.90287574 -0.2395013 ]\n",
            " [-1.37707518 -0.37730412]\n",
            " [ 1.46812147  1.55193536]\n",
            " [-0.15770519  0.24280857]\n",
            " [ 0.51972259  0.4495128 ]\n",
            " [-2.66418795 -2.58214924]\n",
            " [-0.76739018 -0.65290976]\n",
            " [-0.22544796  0.31170998]\n",
            " [ 0.11326592  0.51841421]\n",
            " [ 0.85843647  1.00072408]\n",
            " [ 0.92617925  0.86292126]\n",
            " [ 0.92617925  0.93182267]\n",
            " [-0.76739018 -0.51510694]\n",
            " [-1.3093324  -0.85961399]\n",
            " [ 0.11326592  1.06962549]\n",
            " [ 1.53586425  1.68973818]\n",
            " [ 1.12940758  0.93182267]\n",
            " [ 0.92617925  0.38061139]\n",
            " [-1.71578906 -0.2395013 ]\n",
            " [ 0.58746537  0.38061139]\n",
            " [ 0.31649426  0.65621703]\n",
            " [ 0.7906937  -0.03279707]\n",
            " [-0.29319074 -0.30840271]\n",
            " [ 0.1810087  -0.30840271]\n",
            " [ 0.11326592 -0.30840271]\n",
            " [-2.39321684 -3.06445911]\n",
            " [ 1.06166481  0.86292126]\n",
            " [ 0.7906937   1.48303395]\n",
            " [-0.29319074 -0.72181117]\n",
            " [ 0.11326592 -0.51510694]\n",
            " [-0.08996241 -0.30840271]\n",
            " [-0.22544796  0.38061139]\n",
            " [ 1.06166481  0.93182267]\n",
            " [ 0.1810087   0.38061139]\n",
            " [-0.36093352 -0.03279707]\n",
            " [ 0.38423703 -1.34192386]\n",
            " [ 0.1810087  -0.58400835]\n",
            " [-0.02221963  1.20742831]\n",
            " [-1.64804629 -2.03093796]\n",
            " [-1.85127462 -1.75533232]\n",
            " [-1.17384685 -1.6175295 ]\n",
            " [ 0.38423703  1.06962549]\n",
            " [ 2.14554924  1.27632972]\n",
            " [-0.49641907 -1.34192386]\n",
            " [ 0.24875148  0.38061139]\n",
            " [ 1.53586425  2.10314664]\n",
            " [ 0.31649426 -0.03279707]\n",
            " [-0.08996241  0.93182267]\n",
            " [ 1.40037869  0.86292126]\n",
            " [-0.83513296 -0.99741681]\n",
            " [-0.90287574 -0.72181117]\n",
            " [-0.83513296 -0.44620553]\n",
            " [-0.4286763  -1.13521963]\n",
            " [ 1.06166481  1.96534382]\n",
            " [-1.71578906 -0.65290976]\n",
            " [-0.83513296 -0.72181117]\n",
            " [ 2.14554924  1.68973818]\n",
            " [-0.02221963 -0.51510694]\n",
            " [ 0.38423703  1.00072408]\n",
            " [ 0.11326592  0.72511844]\n",
            " [ 1.06166481 -0.17059989]\n",
            " [ 0.04552315 -0.79071258]\n",
            " [ 0.1810087  -0.65290976]\n",
            " [-0.76739018 -0.51510694]\n",
            " [-0.56416185 -0.03279707]\n",
            " [-2.93515906 -2.03093796]\n",
            " [-0.63190463 -0.03279707]\n",
            " [ 1.19715036  1.00072408]\n",
            " [ 0.1810087   0.24280857]\n",
            " [ 0.51972259 -0.03279707]\n",
            " [-1.03836129 -1.06631822]\n",
            " [ 1.87457813  2.17204805]\n",
            " [ 1.53586425  0.31170998]\n",
            " [ 0.72295092 -0.44620553]\n",
            " [ 0.7906937   1.20742831]\n",
            " [ 0.45197981 -0.10169848]\n",
            " [ 0.38423703 -0.17059989]\n",
            " [ 0.11326592  1.20742831]\n",
            " [ 0.45197981 -0.17059989]\n",
            " [ 2.07780647  1.89644241]\n",
            " [ 2.34877758  2.17204805]\n",
            " [-0.22544796  0.65621703]\n",
            " [-0.4286763  -1.89313514]\n",
            " [-0.49641907 -1.27302245]\n",
            " [-0.08996241 -0.58400835]\n",
            " [-1.03836129 -1.41082527]\n",
            " [ 0.38423703  1.00072408]\n",
            " [-0.49641907 -0.58400835]\n",
            " [-0.15770519 -0.51510694]\n",
            " [ 0.58746537  1.48303395]\n",
            " [ 1.26489314  1.00072408]\n",
            " [-0.02221963  0.10500575]\n",
            " [-0.22544796 -0.10169848]\n",
            " [ 0.7906937   0.65621703]\n",
            " [ 0.58746537  0.72511844]\n",
            " [-0.22544796 -0.85961399]\n",
            " [ 1.73909258  1.827541  ]\n",
            " [-0.29319074  0.10500575]\n",
            " [-2.05450295 -0.51510694]\n",
            " [ 0.45197981  0.79401985]\n",
            " [ 0.58746537  1.41413254]\n",
            " [ 0.04552315  0.65621703]\n",
            " [ 0.45197981 -0.17059989]\n",
            " [-0.97061851 -0.72181117]\n",
            " [ 1.94232091  1.48303395]\n",
            " [-1.03836129 -0.30840271]\n",
            " [-0.4286763  -0.44620553]\n",
            " [-2.25773128 -2.37544501]\n",
            " [-0.6996474   0.51841421]\n",
            " [-0.29319074  1.20742831]\n",
            " [-0.22544796 -0.10169848]\n",
            " [-0.6996474  -0.51510694]\n",
            " [-0.02221963  0.51841421]\n",
            " [ 0.65520814  0.86292126]\n",
            " [ 0.1810087  -0.03279707]\n",
            " [ 0.45197981 -0.79071258]\n",
            " [-0.15770519  0.4495128 ]\n",
            " [-0.02221963 -0.2395013 ]\n",
            " [ 0.85843647  0.58731562]\n",
            " [ 1.26489314  1.41413254]\n",
            " [ 0.24875148 -0.72181117]\n",
            " [-1.3093324  -1.82423373]\n",
            " [-0.22544796 -0.10169848]\n",
            " [-1.98676017 -1.06631822]\n",
            " [-0.83513296  0.17390716]\n",
            " [-0.49641907 -1.20412104]\n",
            " [-1.58030351 -1.13521963]\n",
            " [-0.22544796 -0.51510694]\n",
            " [-0.22544796 -0.03279707]\n",
            " [ 0.11326592  0.24280857]\n",
            " [ 0.7906937  -0.44620553]\n",
            " [ 0.38423703  0.03610434]\n",
            " [-1.3093324  -0.30840271]\n",
            " [ 0.04552315  1.00072408]\n",
            " [-1.10610407 -1.13521963]\n",
            " [ 0.11326592  1.06962549]\n",
            " [-0.4286763  -0.58400835]\n",
            " [-0.02221963  0.93182267]\n",
            " [ 0.38423703  0.10500575]\n",
            " [-0.15770519 -0.51510694]\n",
            " [ 1.6713498   1.827541  ]\n",
            " [-0.6996474  -0.30840271]\n",
            " [ 0.92617925  1.41413254]]\n"
          ],
          "name": "stdout"
        }
      ]
    },
    {
      "cell_type": "code",
      "metadata": {
        "colab": {
          "base_uri": "https://localhost:8080/"
        },
        "id": "_brerSB4GK8C",
        "outputId": "65f1fa46-f06a-4e09-f161-72946d0c800d"
      },
      "source": [
        "from sklearn.naive_bayes import GaussianNB\n",
        "classifier = GaussianNB()\n",
        "classifier.fit(x_train, y_train)"
      ],
      "execution_count": 13,
      "outputs": [
        {
          "output_type": "execute_result",
          "data": {
            "text/plain": [
              "GaussianNB(priors=None, var_smoothing=1e-09)"
            ]
          },
          "metadata": {
            "tags": []
          },
          "execution_count": 13
        }
      ]
    },
    {
      "cell_type": "code",
      "metadata": {
        "id": "cC4P5bHpHLte"
      },
      "source": [
        "y_pred = classifier.predict(x_test)"
      ],
      "execution_count": 14,
      "outputs": []
    },
    {
      "cell_type": "code",
      "metadata": {
        "colab": {
          "base_uri": "https://localhost:8080/"
        },
        "id": "ZYH8gsw3H_lF",
        "outputId": "039a0386-8d11-4daa-f608-eaa3e2e9cead"
      },
      "source": [
        "from sklearn.metrics import confusion_matrix\n",
        "cm = confusion_matrix(y_test, y_pred)\n",
        "print(cm)"
      ],
      "execution_count": 15,
      "outputs": [
        {
          "output_type": "stream",
          "text": [
            "[[125  39]\n",
            " [ 55  31]]\n"
          ],
          "name": "stdout"
        }
      ]
    },
    {
      "cell_type": "code",
      "metadata": {
        "colab": {
          "base_uri": "https://localhost:8080/",
          "height": 349
        },
        "id": "HCBf8zuuI2Oa",
        "outputId": "3f571576-a33b-4820-b8ad-00d4f1dbbc4c"
      },
      "source": [
        "from matplotlib.colors import ListedColormap\n",
        "x_set, y_set = x_train, y_train\n",
        "x1, x2 = np.meshgrid(np.arange(start = x_set[:, 0].min() - 1, stop = x_set[:, 0].max() + 1, step = 0.01),\n",
        "                     np.arange(start = x_set[:, 1].min() - 1, stop = x_set[:, 1].max() + 1, step = 0.01))\n",
        "plt.contourf(x1,x2, classifier.predict(np.array([x1.ravel(), x2.ravel()]).T).reshape(x1.shape),\n",
        "            alpha = 0.75, cmap = ListedColormap(('red','green')))\n",
        "plt.xlim(x1.min(),x1.max())\n",
        "plt.xlim(x2.min(),x2.max())\n",
        "for i,j in enumerate(np.unique(y_set)):\n",
        "  plt.scatter(x_set[y_set == j, 0],x_set[y_set == j, 1],\n",
        "              c = ListedColormap(('red','green'))(i),label = j)\n",
        "plt.title('Klasifikasi Data dengan Naive Bayes(Data Training)')\n",
        "plt.xlabel('Math Score')\n",
        "plt.ylabel('Reading Score')\n",
        "plt.legend()\n",
        "plt.show()"
      ],
      "execution_count": 16,
      "outputs": [
        {
          "output_type": "stream",
          "text": [
            "*c* argument looks like a single numeric RGB or RGBA sequence, which should be avoided as value-mapping will have precedence in case its length matches with *x* & *y*.  Please use the *color* keyword-argument or provide a 2-D array with a single row if you intend to specify the same RGB or RGBA value for all points.\n",
            "*c* argument looks like a single numeric RGB or RGBA sequence, which should be avoided as value-mapping will have precedence in case its length matches with *x* & *y*.  Please use the *color* keyword-argument or provide a 2-D array with a single row if you intend to specify the same RGB or RGBA value for all points.\n"
          ],
          "name": "stderr"
        },
        {
          "output_type": "display_data",
          "data": {
            "image/png": "[encoded data removed]",
            "text/plain": [
              "<Figure size 432x288 with 1 Axes>"
            ]
          },
          "metadata": {
            "tags": [],
            "needs_background": "light"
          }
        }
      ]
    },
    {
      "cell_type": "code",
      "metadata": {
        "colab": {
          "base_uri": "https://localhost:8080/",
          "height": 349
        },
        "id": "FMkEyLAlN0U0",
        "outputId": "3de6642a-bfce-4082-90b7-8293b8bdb0e7"
      },
      "source": [
        "from matplotlib.colors import ListedColormap\n",
        "x_set, y_set = x_test, y_test\n",
        "x1, x2 = np.meshgrid(np.arange(start = x_set[:, 0].min() - 1, stop = x_set[:, 0].max() + 1, step = 0.01),\n",
        "                     np.arange(start = x_set[:, 1].min() - 1, stop = x_set[:, 1].max() + 1, step = 0.01))\n",
        "plt.contourf(x1,x2, classifier.predict(np.array([x1.ravel(), x2.ravel()]).T).reshape(x1.shape),\n",
        "            alpha = 0.75, cmap = ListedColormap(('red','green')))\n",
        "plt.xlim(x1.min(),x1.max())\n",
        "plt.xlim(x2.min(),x2.max())\n",
        "for i,j in enumerate(np.unique(y_set)):\n",
        "  plt.scatter(x_set[y_set == j, 0],x_set[y_set == j, 1],\n",
        "              c = ListedColormap(('red','green'))(i),label = j)\n",
        "plt.title('Klasifikasi Data dengan Naive Bayes(Data Training)')\n",
        "plt.xlabel('Math Score')\n",
        "plt.ylabel('Reading Score')\n",
        "plt.legend()\n",
        "plt.show()"
      ],
      "execution_count": 17,
      "outputs": [
        {
          "output_type": "stream",
          "text": [
            "*c* argument looks like a single numeric RGB or RGBA sequence, which should be avoided as value-mapping will have precedence in case its length matches with *x* & *y*.  Please use the *color* keyword-argument or provide a 2-D array with a single row if you intend to specify the same RGB or RGBA value for all points.\n",
            "*c* argument looks like a single numeric RGB or RGBA sequence, which should be avoided as value-mapping will have precedence in case its length matches with *x* & *y*.  Please use the *color* keyword-argument or provide a 2-D array with a single row if you intend to specify the same RGB or RGBA value for all points.\n"
          ],
          "name": "stderr"
        },
        {
          "output_type": "display_data",
          "data": {
            "image/png": "[encoded data removed]",
            "text/plain": [
              "<Figure size 432x288 with 1 Axes>"
            ]
          },
          "metadata": {
            "tags": [],
            "needs_background": "light"
          }
        }
      ]
    }
  ]
}