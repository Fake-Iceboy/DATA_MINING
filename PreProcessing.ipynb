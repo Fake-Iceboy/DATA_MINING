{
  "nbformat": 4,
  "nbformat_minor": 0,
  "metadata": {
    "colab": {
      "name": "Pemrosesan Data.ipynb",
      "provenance": []
    },
    "kernelspec": {
      "name": "python3",
      "display_name": "Python 3"
    }
  },
  "cells": [
    {
      "cell_type": "code",
      "metadata": {
        "id": "HyNaCYu9MaXM"
      },
      "source": [
        "import numpy as np\n",
        "import matplotlib.pyplot as plt\n",
        "import pandas as pd"
      ],
      "execution_count": 9,
      "outputs": []
    },
    {
      "cell_type": "markdown",
      "metadata": {
        "id": "BgnS6svIP5LE"
      },
      "source": [
        "Numpy digunakan untuk komputasi numerik.\n",
        "\n",
        "Matplotlib digunakan untuk grafik / ploting.\n",
        "\n",
        "Pandas digunakan untuk memanggil file external dari csv, xlsx, txt, dll.\n",
        "\n"
      ]
    },
    {
      "cell_type": "code",
      "metadata": {
        "id": "a7YcJYcHQqb6"
      },
      "source": [
        "dataset = pd.read_csv('Data.csv')\n",
        "x = dataset.iloc[:, :-1].values\n",
        "y = dataset.iloc[:, -1].values"
      ],
      "execution_count": 10,
      "outputs": []
    },
    {
      "cell_type": "code",
      "metadata": {
        "colab": {
          "base_uri": "https://localhost:8080/"
        },
        "id": "fHknBu43SIg8",
        "outputId": "c82b997a-a394-4a21-8385-fb427634b2a9"
      },
      "source": [
        "print(x)"
      ],
      "execution_count": 11,
      "outputs": [
        {
          "output_type": "stream",
          "text": [
            "[['Sanhok' 44.0 72000.0]\n",
            " ['Miramar' 27.0 48000.0]\n",
            " ['Vikendi' 30.0 54000.0]\n",
            " ['Miramar' 38.0 61000.0]\n",
            " ['Vikendi' 40.0 nan]\n",
            " ['Sanhok' 35.0 58000.0]\n",
            " ['Miramar' nan 52000.0]\n",
            " ['Sanhok' 48.0 79000.0]\n",
            " ['Vikendi' 50.0 83000.0]\n",
            " ['Sanhok' 37.0 67000.0]]\n"
          ],
          "name": "stdout"
        }
      ]
    },
    {
      "cell_type": "code",
      "metadata": {
        "colab": {
          "base_uri": "https://localhost:8080/"
        },
        "id": "lCOl2KdVT7uD",
        "outputId": "af9b22cd-1037-44d7-fecf-e8982ffa29d9"
      },
      "source": [
        "print(y)"
      ],
      "execution_count": 12,
      "outputs": [
        {
          "output_type": "stream",
          "text": [
            "['No' 'No' 'No' 'No' 'No' 'No' 'No' 'No' 'No' 'No']\n"
          ],
          "name": "stdout"
        }
      ]
    },
    {
      "cell_type": "code",
      "metadata": {
        "id": "Rk5bNZuYUUwK"
      },
      "source": [
        "from sklearn.impute import SimpleImputer\n",
        "imputer = SimpleImputer(missing_values=np.nan, strategy='mean')\n",
        "imputer.fit(x[:, 1:3])\n",
        "x[:, 1:3] = imputer.transform(x[:, 1:3])"
      ],
      "execution_count": 13,
      "outputs": []
    },
    {
      "cell_type": "code",
      "metadata": {
        "colab": {
          "base_uri": "https://localhost:8080/"
        },
        "id": "xmvOoe2mVy8L",
        "outputId": "54841c83-c36a-4162-83f6-f1c503b5b5e4"
      },
      "source": [
        "print(x)"
      ],
      "execution_count": 14,
      "outputs": [
        {
          "output_type": "stream",
          "text": [
            "[['Sanhok' 44.0 72000.0]\n",
            " ['Miramar' 27.0 48000.0]\n",
            " ['Vikendi' 30.0 54000.0]\n",
            " ['Miramar' 38.0 61000.0]\n",
            " ['Vikendi' 40.0 63777.77777777778]\n",
            " ['Sanhok' 35.0 58000.0]\n",
            " ['Miramar' 38.77777777777778 52000.0]\n",
            " ['Sanhok' 48.0 79000.0]\n",
            " ['Vikendi' 50.0 83000.0]\n",
            " ['Sanhok' 37.0 67000.0]]\n"
          ],
          "name": "stdout"
        }
      ]
    },
    {
      "cell_type": "code",
      "metadata": {
        "id": "h_NWJevLWKsv"
      },
      "source": [
        "from sklearn.compose import ColumnTransformer\n",
        "from sklearn.preprocessing import OneHotEncoder\n",
        "ct = ColumnTransformer(transformers=[('encoder', OneHotEncoder(), [0])], remainder='passthrough')\n",
        "x = np.array(ct.fit_transform(x))"
      ],
      "execution_count": 15,
      "outputs": []
    },
    {
      "cell_type": "code",
      "metadata": {
        "colab": {
          "base_uri": "https://localhost:8080/"
        },
        "id": "DAu7b701XeoD",
        "outputId": "15fbc870-a976-48e4-b519-1f87d72c52b2"
      },
      "source": [
        "print(x)"
      ],
      "execution_count": 16,
      "outputs": [
        {
          "output_type": "stream",
          "text": [
            "[[0.0 1.0 0.0 44.0 72000.0]\n",
            " [1.0 0.0 0.0 27.0 48000.0]\n",
            " [0.0 0.0 1.0 30.0 54000.0]\n",
            " [1.0 0.0 0.0 38.0 61000.0]\n",
            " [0.0 0.0 1.0 40.0 63777.77777777778]\n",
            " [0.0 1.0 0.0 35.0 58000.0]\n",
            " [1.0 0.0 0.0 38.77777777777778 52000.0]\n",
            " [0.0 1.0 0.0 48.0 79000.0]\n",
            " [0.0 0.0 1.0 50.0 83000.0]\n",
            " [0.0 1.0 0.0 37.0 67000.0]]\n"
          ],
          "name": "stdout"
        }
      ]
    },
    {
      "cell_type": "code",
      "metadata": {
        "id": "nrLlMqAPYj1T"
      },
      "source": [
        "from sklearn.preprocessing import LabelEncoder\n",
        "le = LabelEncoder()\n",
        "y = le.fit_transform(y)"
      ],
      "execution_count": 17,
      "outputs": []
    },
    {
      "cell_type": "code",
      "metadata": {
        "colab": {
          "base_uri": "https://localhost:8080/"
        },
        "id": "z6cXV_-UY5U_",
        "outputId": "90d1eb2d-e887-4df3-af5a-b07435afacc5"
      },
      "source": [
        "print(y)"
      ],
      "execution_count": 18,
      "outputs": [
        {
          "output_type": "stream",
          "text": [
            "[0 0 0 0 0 0 0 0 0 0]\n"
          ],
          "name": "stdout"
        }
      ]
    },
    {
      "cell_type": "code",
      "metadata": {
        "id": "o2fHHVnPZ1yc"
      },
      "source": [
        "from sklearn.model_selection import train_test_split\n",
        "x_train, x_test, y_train, y_test = train_test_split(x,y, test_size=0.2, random_state=1)"
      ],
      "execution_count": 19,
      "outputs": []
    },
    {
      "cell_type": "code",
      "metadata": {
        "colab": {
          "base_uri": "https://localhost:8080/"
        },
        "id": "PbZXdr96ap4N",
        "outputId": "698af5a4-5dc4-45e2-d8ce-3b2b562a7b37"
      },
      "source": [
        "print(x_train)"
      ],
      "execution_count": 20,
      "outputs": [
        {
          "output_type": "stream",
          "text": [
            "[[1.0 0.0 0.0 38.77777777777778 52000.0]\n",
            " [0.0 0.0 1.0 40.0 63777.77777777778]\n",
            " [0.0 1.0 0.0 44.0 72000.0]\n",
            " [1.0 0.0 0.0 38.0 61000.0]\n",
            " [1.0 0.0 0.0 27.0 48000.0]\n",
            " [0.0 1.0 0.0 48.0 79000.0]\n",
            " [0.0 0.0 1.0 50.0 83000.0]\n",
            " [0.0 1.0 0.0 35.0 58000.0]]\n"
          ],
          "name": "stdout"
        }
      ]
    },
    {
      "cell_type": "code",
      "metadata": {
        "colab": {
          "base_uri": "https://localhost:8080/"
        },
        "id": "M0S938X0a3lS",
        "outputId": "65595d79-bd07-4ee0-f293-668ece861033"
      },
      "source": [
        "print(x_test)"
      ],
      "execution_count": 21,
      "outputs": [
        {
          "output_type": "stream",
          "text": [
            "[[0.0 0.0 1.0 30.0 54000.0]\n",
            " [0.0 1.0 0.0 37.0 67000.0]]\n"
          ],
          "name": "stdout"
        }
      ]
    },
    {
      "cell_type": "code",
      "metadata": {
        "colab": {
          "base_uri": "https://localhost:8080/"
        },
        "id": "aUoa24uDa-Sf",
        "outputId": "f5486de0-45f4-47df-b365-c56721e605a4"
      },
      "source": [
        "print(y_train)"
      ],
      "execution_count": 22,
      "outputs": [
        {
          "output_type": "stream",
          "text": [
            "[0 0 0 0 0 0 0 0]\n"
          ],
          "name": "stdout"
        }
      ]
    },
    {
      "cell_type": "code",
      "metadata": {
        "colab": {
          "base_uri": "https://localhost:8080/"
        },
        "id": "Wc0uOnU2bDCR",
        "outputId": "11328995-d49d-4ef9-89c6-4a6540d97b72"
      },
      "source": [
        "print(y_test)"
      ],
      "execution_count": 23,
      "outputs": [
        {
          "output_type": "stream",
          "text": [
            "[0 0]\n"
          ],
          "name": "stdout"
        }
      ]
    },
    {
      "cell_type": "code",
      "metadata": {
        "id": "mp7NPS2mcXcs"
      },
      "source": [
        "from sklearn.preprocessing import StandardScaler\n",
        "sc = StandardScaler()\n",
        "x_train[:, 3:] = sc.fit_transform(x_train[:, 3:])\n",
        "x_test[:, 3:] = sc.transform(x_test[:, 3:])"
      ],
      "execution_count": 24,
      "outputs": []
    },
    {
      "cell_type": "code",
      "metadata": {
        "colab": {
          "base_uri": "https://localhost:8080/"
        },
        "id": "tYr4L5ZQdW7d",
        "outputId": "3afeab6e-078b-462a-c6e2-1db34c85ca54"
      },
      "source": [
        "print(x_train)"
      ],
      "execution_count": 25,
      "outputs": [
        {
          "output_type": "stream",
          "text": [
            "[[1.0 0.0 0.0 -0.19159184384578545 -1.0781259408412425]\n",
            " [0.0 0.0 1.0 -0.014117293757057777 -0.07013167641635372]\n",
            " [0.0 1.0 0.0 0.566708506533324 0.633562432710455]\n",
            " [1.0 0.0 0.0 -0.30453019390224867 -0.30786617274297867]\n",
            " [1.0 0.0 0.0 -1.9018011447007988 -1.420463615551582]\n",
            " [0.0 1.0 0.0 1.1475343068237058 1.232653363453549]\n",
            " [0.0 0.0 1.0 1.4379472069688968 1.5749910381638885]\n",
            " [0.0 1.0 0.0 -0.7401495441200351 -0.5646194287757332]]\n"
          ],
          "name": "stdout"
        }
      ]
    },
    {
      "cell_type": "code",
      "metadata": {
        "colab": {
          "base_uri": "https://localhost:8080/"
        },
        "id": "vgCYAfgZdg4h",
        "outputId": "b733c9d3-0f3d-41d9-9d70-78ff61e5052a"
      },
      "source": [
        "print(x_test)"
      ],
      "execution_count": 26,
      "outputs": [
        {
          "output_type": "stream",
          "text": [
            "[[0.0 0.0 1.0 -1.4661817944830124 -0.9069571034860727]\n",
            " [0.0 1.0 0.0 -0.44973664397484414 0.2056403393225306]]\n"
          ],
          "name": "stdout"
        }
      ]
    }
  ]
}